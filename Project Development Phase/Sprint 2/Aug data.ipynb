{
 "cells": [
  {
   "cell_type": "code",
   "execution_count": 1,
   "id": "481ef38c",
   "metadata": {},
   "outputs": [],
   "source": [
    "from keras.preprocessing.image import ImageDataGenerator\n",
    "import cv2\n",
    "from os import listdir"
   ]
  },
  {
   "cell_type": "code",
   "execution_count": 2,
   "id": "10442e88",
   "metadata": {},
   "outputs": [],
   "source": [
    "def augment_data(file_dir, n_generated_samples, save_to_dir):\n",
    "    data_gen = ImageDataGenerator(rescale=1./255,\n",
    "                                  shear_range=0.25,\n",
    "                                  zoom_range=0.2,\n",
    "                                  horizontal_flip=True)\n",
    "    for filename in listdir(file_dir):\n",
    "       image = cv2.imread(file_dir + '/' + filename)\n",
    "       image = image.reshape((1,)+image.shape)\n",
    "       save_prefix = 'aug_' + filename[:-4]\n",
    "       i=0\n",
    "       for batch in data_gen.flow(x=image,batch_size=1, save_to_dir=save_to_dir,save_prefix = save_prefix, save_format='jpg'):\n",
    "         i+=1\n",
    "         if i>n_generated_samples:\n",
    "            break"
   ]
  },
  {
   "cell_type": "code",
   "execution_count": 3,
   "id": "d2dc539b",
   "metadata": {},
   "outputs": [],
   "source": [
    "augmented_data_path='C:/Users/Admin/Desktop/Project/Digital Naturalist/Augmented data/'\n",
    "augment_data(file_dir='C:/Users/Admin/Desktop/Project/Digital Naturalist/Digital Naturalist Dataset/Bird/Great Indian Bustard Bird',n_generated_samples=4,save_to_dir=augmented_data_path+'Bird/GIB_AUG')\n",
    "augment_data(file_dir='C:/Users/Admin/Desktop/Project/Digital Naturalist/Digital Naturalist Dataset/Bird/Spoon Billed Sandpiper Bird',n_generated_samples=4,save_to_dir=augmented_data_path+'Bird/SPS_AUG')\n",
    "augment_data(file_dir='C:/Users/Admin/Desktop/Project/Digital Naturalist/Digital Naturalist Dataset/Flower/Corpse Flower',n_generated_samples=4,save_to_dir=augmented_data_path+'Flower/Corpse_AUG')\n",
    "augment_data(file_dir='C:/Users/Admin/Desktop/Project/Digital Naturalist/Digital Naturalist Dataset/Flower/Lady Slipper Orchid Flower',n_generated_samples=4,save_to_dir=augmented_data_path+'Flower/LS_Orchid_AUG')\n",
    "augment_data(file_dir='C:/Users/Admin/Desktop/Project/Digital Naturalist/Digital Naturalist Dataset/Mammal/Pangolin Mammal',n_generated_samples=4,save_to_dir=augmented_data_path+'Mammal/Pangolin_AUG')\n",
    "augment_data(file_dir='C:/Users/Admin/Desktop/Project/Digital Naturalist/Digital Naturalist Dataset/Mammal/Senenca White Deer Mammal',n_generated_samples=4,save_to_dir=augmented_data_path+'Mammal/SW_Deer_AUG')\n"
   ]
  },
  {
   "cell_type": "code",
   "execution_count": null,
   "id": "8ec56794",
   "metadata": {},
   "outputs": [],
   "source": []
  }
 ],
 "metadata": {
  "kernelspec": {
   "display_name": "Python 3 (ipykernel)",
   "language": "python",
   "name": "python3"
  },
  "language_info": {
   "codemirror_mode": {
    "name": "ipython",
    "version": 3
   },
   "file_extension": ".py",
   "mimetype": "text/x-python",
   "name": "python",
   "nbconvert_exporter": "python",
   "pygments_lexer": "ipython3",
   "version": "3.9.13"
  }
 },
 "nbformat": 4,
 "nbformat_minor": 5
}
