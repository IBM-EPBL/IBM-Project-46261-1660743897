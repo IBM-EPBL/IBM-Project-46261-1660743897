{
 "cells": [
  {
   "cell_type": "code",
   "execution_count": 1,
   "id": "4d777f15",
   "metadata": {},
   "outputs": [],
   "source": [
    "import numpy as np\n",
    "import tensorflow as tf\n",
    "import keras\n",
    "import keras.backend as k"
   ]
  },
  {
   "cell_type": "code",
   "execution_count": 2,
   "id": "58bdac1d",
   "metadata": {},
   "outputs": [],
   "source": [
    "from keras.optimizers import SGD, Adam, Adagrad, RMSprop\n",
    "from keras.applications import*\n",
    "from keras.preprocessing import*\n",
    "from keras_preprocessing.image import ImageDataGenerator, array_to_img, img_to_array, load_img\n",
    "from keras.utils import load_img, img_to_array \n",
    "from keras.callbacks import EarlyStopping, ModelCheckpoint, ReduceLROnPlateau\n",
    "from keras.models import Sequential\n",
    "from keras.layers import Dense, Conv2D, MaxPool2D, Flatten, Activation ,BatchNormalization, Dropout\n",
    "from keras.utils.np_utils import to_categorical\n",
    "from sklearn.model_selection import train_test_split\n",
    "from sklearn.metrics import accuracy_score"
   ]
  },
  {
   "cell_type": "code",
   "execution_count": 3,
   "id": "19766235",
   "metadata": {},
   "outputs": [],
   "source": [
    "import matplotlib.pyplot as plt"
   ]
  },
  {
   "cell_type": "code",
   "execution_count": 4,
   "id": "213799e1",
   "metadata": {},
   "outputs": [],
   "source": [
    "import glob\n",
    "from PIL import Image\n",
    "import os\n",
    "from os import listdir"
   ]
  },
  {
   "cell_type": "code",
   "execution_count": 5,
   "id": "47293d97",
   "metadata": {},
   "outputs": [
    {
     "data": {
      "text/plain": [
       "['C:/Users/Admin/Desktop/Project/Digital Naturalist/Augmented data\\\\Bird\\\\GIB_AUG',\n",
       " 'C:/Users/Admin/Desktop/Project/Digital Naturalist/Augmented data\\\\Bird\\\\SPS_AUG',\n",
       " 'C:/Users/Admin/Desktop/Project/Digital Naturalist/Augmented data\\\\Flower\\\\Corpse_AUG',\n",
       " 'C:/Users/Admin/Desktop/Project/Digital Naturalist/Augmented data\\\\Flower\\\\LS_Orchid_AUG',\n",
       " 'C:/Users/Admin/Desktop/Project/Digital Naturalist/Augmented data\\\\Mammal\\\\Pangolin_AUG',\n",
       " 'C:/Users/Admin/Desktop/Project/Digital Naturalist/Augmented data\\\\Mammal\\\\SW_Deer_AUG']"
      ]
     },
     "execution_count": 5,
     "metadata": {},
     "output_type": "execute_result"
    }
   ],
   "source": [
    "dirName = 'C:/Users/Admin/Desktop/Project/Digital Naturalist/Augmented data'\n",
    "folders=listdir(dirName)\n",
    "def getListOfFiles(dirName):\n",
    "    listOfFile = os.listdir(dirName)\n",
    "    allFiles=list()\n",
    "    for folders in listOfFile:\n",
    "        fullPath=os.path.join(dirName,folders)\n",
    "        allFiles.append(fullPath)\n",
    "    return allFiles\n",
    "Folders=getListOfFiles(dirName)\n",
    "len(Folders)\n",
    "subfolders=[]\n",
    "for num in range(len(Folders)):\n",
    "    sub_fols=getListOfFiles(Folders[num])\n",
    "    subfolders+=sub_fols\n",
    "subfolders"
   ]
  },
  {
   "cell_type": "code",
   "execution_count": 6,
   "id": "6ca3613d",
   "metadata": {},
   "outputs": [],
   "source": [
    "X_data=[]\n",
    "Y_data=[]\n",
    "id_no=0\n",
    "found=[]\n",
    "for paths in subfolders:\n",
    "    files = glob.glob(paths+\"/*.jpg\")\n",
    "    found.append((paths.split('\\\\')[-2],paths.split('\\\\')[-1]))\n",
    "    for myFile in files:\n",
    "        img = Image.open(myFile)\n",
    "        img = img.resize((224,224),Image.Resampling.LANCZOS)\n",
    "        img = np.array(img)\n",
    "        if img.shape==(224,224,3):\n",
    "            X_data.append(img)\n",
    "            Y_data.append(id_no)\n",
    "    id_no+=1"
   ]
  },
  {
   "cell_type": "code",
   "execution_count": 7,
   "id": "f0c79512",
   "metadata": {},
   "outputs": [
    {
     "name": "stdout",
     "output_type": "stream",
     "text": [
      "X_shape (979, 224, 224, 3) Y_shape (979,)\n"
     ]
    }
   ],
   "source": [
    "X=np.array(X_data)\n",
    "Y=np.array(Y_data)\n",
    "print(\"X_shape\",X.shape,\"Y_shape\",Y.shape)"
   ]
  },
  {
   "cell_type": "code",
   "execution_count": 8,
   "id": "ddcbdbbd",
   "metadata": {},
   "outputs": [
    {
     "name": "stdout",
     "output_type": "stream",
     "text": [
      "(979, 224, 224, 3) (979, 6)\n",
      "685\n"
     ]
    }
   ],
   "source": [
    "X = X.astype('float32')/255.0\n",
    "y_cat = to_categorical(Y_data,len(subfolders))\n",
    "print(X.shape,y_cat.shape)\n",
    "X_train,X_test,y_train,y_Test=train_test_split(X,y_cat,test_size=0.3)\n",
    "print(str(len(X_train)))"
   ]
  },
  {
   "cell_type": "code",
   "execution_count": 9,
   "id": "1d66e323",
   "metadata": {},
   "outputs": [],
   "source": [
    "early_stop = EarlyStopping(monitor='val_accuracy', \n",
    "                           patience=5)\n",
    "\n",
    "lr = ReduceLROnPlateau(monitor='val_accuaracy', \n",
    "                       factor=0.5, \n",
    "                       min_lr=0.01)\n",
    "\n",
    "callback = [early_stop,lr]"
   ]
  },
  {
   "cell_type": "code",
   "execution_count": 10,
   "id": "a67a2ea1",
   "metadata": {},
   "outputs": [],
   "source": [
    "def load_CNN():\n",
    "    model=Sequential()\n",
    "    model.add(Dropout(0.4,input_shape=(224,224,3)))\n",
    "    model.add(Conv2D(256,(5,5),input_shape=(224,224,3),activation='relu'))\n",
    "    model.add(MaxPool2D(pool_size=(2,2)))\n",
    "    model.add(Conv2D(128,(3,3),activation='relu'))\n",
    "    model.add(MaxPool2D(pool_size=(2,2)))\n",
    "    model.add(Conv2D(64,(3,3),activation='relu'))\n",
    "    model.add(MaxPool2D(pool_size=(2,2)))\n",
    "    model.add(Flatten())\n",
    "    model.add(Dense(512,activation='relu'))\n",
    "    model.add(Dropout(0.3))\n",
    "    model.add(Dense(256,activation='relu'))\n",
    "    model.add(Dropout(0.3))\n",
    "    model.add(Dense(128,activation='relu'))\n",
    "    model.add(Dropout(0.3))\n",
    "    model.add(Dense(6,activation='softmax'))\n",
    "    return model\n",
    "              \n",
    "              "
   ]
  },
  {
   "cell_type": "code",
   "execution_count": 11,
   "id": "a1e65c32",
   "metadata": {},
   "outputs": [
    {
     "name": "stdout",
     "output_type": "stream",
     "text": [
      "Model: \"sequential\"\n",
      "_________________________________________________________________\n",
      " Layer (type)                Output Shape              Param #   \n",
      "=================================================================\n",
      " dropout (Dropout)           (None, 224, 224, 3)       0         \n",
      "                                                                 \n",
      " conv2d (Conv2D)             (None, 220, 220, 256)     19456     \n",
      "                                                                 \n",
      " max_pooling2d (MaxPooling2D  (None, 110, 110, 256)    0         \n",
      " )                                                               \n",
      "                                                                 \n",
      " conv2d_1 (Conv2D)           (None, 108, 108, 128)     295040    \n",
      "                                                                 \n",
      " max_pooling2d_1 (MaxPooling  (None, 54, 54, 128)      0         \n",
      " 2D)                                                             \n",
      "                                                                 \n",
      " conv2d_2 (Conv2D)           (None, 52, 52, 64)        73792     \n",
      "                                                                 \n",
      " max_pooling2d_2 (MaxPooling  (None, 26, 26, 64)       0         \n",
      " 2D)                                                             \n",
      "                                                                 \n",
      " flatten (Flatten)           (None, 43264)             0         \n",
      "                                                                 \n",
      " dense (Dense)               (None, 512)               22151680  \n",
      "                                                                 \n",
      " dropout_1 (Dropout)         (None, 512)               0         \n",
      "                                                                 \n",
      " dense_1 (Dense)             (None, 256)               131328    \n",
      "                                                                 \n",
      " dropout_2 (Dropout)         (None, 256)               0         \n",
      "                                                                 \n",
      " dense_2 (Dense)             (None, 128)               32896     \n",
      "                                                                 \n",
      " dropout_3 (Dropout)         (None, 128)               0         \n",
      "                                                                 \n",
      " dense_3 (Dense)             (None, 6)                 774       \n",
      "                                                                 \n",
      "=================================================================\n",
      "Total params: 22,704,966\n",
      "Trainable params: 22,704,966\n",
      "Non-trainable params: 0\n",
      "_________________________________________________________________\n"
     ]
    }
   ],
   "source": [
    "model = load_CNN()\n",
    "model.compile(optimizer='adam',loss='categorical_crossentropy',metrics=['accuracy'])\n",
    "model.summary()\n",
    "weights = model.get_weights()"
   ]
  },
  {
   "cell_type": "code",
   "execution_count": 12,
   "id": "4ad2c2ce",
   "metadata": {},
   "outputs": [
    {
     "name": "stdout",
     "output_type": "stream",
     "text": [
      "Epoch 1/30\n",
      "115/115 - 555s - loss: 1.8280 - accuracy: 0.1781 - val_loss: 1.7935 - val_accuracy: 0.1565 - 555s/epoch - 5s/step\n",
      "Epoch 2/30\n",
      "115/115 - 484s - loss: 1.7924 - accuracy: 0.1781 - val_loss: 1.7973 - val_accuracy: 0.1565 - 484s/epoch - 4s/step\n",
      "Epoch 3/30\n",
      "115/115 - 455s - loss: 1.7945 - accuracy: 0.1810 - val_loss: 1.7915 - val_accuracy: 0.1565 - 455s/epoch - 4s/step\n",
      "Epoch 4/30\n",
      "115/115 - 507s - loss: 1.7574 - accuracy: 0.1825 - val_loss: 1.7367 - val_accuracy: 0.1803 - 507s/epoch - 4s/step\n",
      "Epoch 5/30\n",
      "115/115 - 568s - loss: 1.5341 - accuracy: 0.3650 - val_loss: 1.3040 - val_accuracy: 0.5544 - 568s/epoch - 5s/step\n",
      "Epoch 6/30\n",
      "115/115 - 462s - loss: 0.9173 - accuracy: 0.6715 - val_loss: 1.5228 - val_accuracy: 0.5612 - 462s/epoch - 4s/step\n",
      "Epoch 7/30\n",
      "115/115 - 462s - loss: 0.6591 - accuracy: 0.7620 - val_loss: 1.0933 - val_accuracy: 0.6088 - 462s/epoch - 4s/step\n",
      "Epoch 8/30\n",
      "115/115 - 494s - loss: 0.4913 - accuracy: 0.8511 - val_loss: 1.4892 - val_accuracy: 0.6054 - 494s/epoch - 4s/step\n",
      "Epoch 9/30\n",
      "115/115 - 522s - loss: 0.2865 - accuracy: 0.9080 - val_loss: 1.5510 - val_accuracy: 0.6463 - 522s/epoch - 5s/step\n",
      "Epoch 10/30\n",
      "115/115 - 521s - loss: 0.1998 - accuracy: 0.9372 - val_loss: 1.4912 - val_accuracy: 0.6871 - 521s/epoch - 5s/step\n",
      "Epoch 11/30\n",
      "115/115 - 504s - loss: 0.1221 - accuracy: 0.9620 - val_loss: 1.3901 - val_accuracy: 0.6565 - 504s/epoch - 4s/step\n",
      "Epoch 12/30\n",
      "115/115 - 554s - loss: 0.0815 - accuracy: 0.9825 - val_loss: 1.9971 - val_accuracy: 0.6701 - 554s/epoch - 5s/step\n",
      "Epoch 13/30\n",
      "115/115 - 583s - loss: 0.1460 - accuracy: 0.9650 - val_loss: 1.5391 - val_accuracy: 0.6361 - 583s/epoch - 5s/step\n",
      "Epoch 14/30\n",
      "115/115 - 522s - loss: 0.1515 - accuracy: 0.9606 - val_loss: 1.6457 - val_accuracy: 0.6939 - 522s/epoch - 5s/step\n",
      "Epoch 15/30\n",
      "115/115 - 462s - loss: 0.0617 - accuracy: 0.9810 - val_loss: 1.7954 - val_accuracy: 0.6735 - 462s/epoch - 4s/step\n",
      "Epoch 16/30\n",
      "115/115 - 455s - loss: 0.0878 - accuracy: 0.9679 - val_loss: 1.7526 - val_accuracy: 0.6361 - 455s/epoch - 4s/step\n",
      "Epoch 17/30\n",
      "115/115 - 456s - loss: 0.0376 - accuracy: 0.9912 - val_loss: 1.7393 - val_accuracy: 0.6769 - 456s/epoch - 4s/step\n",
      "Epoch 18/30\n",
      "115/115 - 458s - loss: 0.0296 - accuracy: 0.9971 - val_loss: 1.7634 - val_accuracy: 0.6429 - 458s/epoch - 4s/step\n",
      "Epoch 19/30\n",
      "115/115 - 434s - loss: 0.0134 - accuracy: 0.9971 - val_loss: 2.1299 - val_accuracy: 0.6939 - 434s/epoch - 4s/step\n",
      "Model: \"sequential\"\n",
      "_________________________________________________________________\n",
      " Layer (type)                Output Shape              Param #   \n",
      "=================================================================\n",
      " dropout (Dropout)           (None, 224, 224, 3)       0         \n",
      "                                                                 \n",
      " conv2d (Conv2D)             (None, 220, 220, 256)     19456     \n",
      "                                                                 \n",
      " max_pooling2d (MaxPooling2D  (None, 110, 110, 256)    0         \n",
      " )                                                               \n",
      "                                                                 \n",
      " conv2d_1 (Conv2D)           (None, 108, 108, 128)     295040    \n",
      "                                                                 \n",
      " max_pooling2d_1 (MaxPooling  (None, 54, 54, 128)      0         \n",
      " 2D)                                                             \n",
      "                                                                 \n",
      " conv2d_2 (Conv2D)           (None, 52, 52, 64)        73792     \n",
      "                                                                 \n",
      " max_pooling2d_2 (MaxPooling  (None, 26, 26, 64)       0         \n",
      " 2D)                                                             \n",
      "                                                                 \n",
      " flatten (Flatten)           (None, 43264)             0         \n",
      "                                                                 \n",
      " dense (Dense)               (None, 512)               22151680  \n",
      "                                                                 \n",
      " dropout_1 (Dropout)         (None, 512)               0         \n",
      "                                                                 \n",
      " dense_1 (Dense)             (None, 256)               131328    \n",
      "                                                                 \n",
      " dropout_2 (Dropout)         (None, 256)               0         \n",
      "                                                                 \n",
      " dense_2 (Dense)             (None, 128)               32896     \n",
      "                                                                 \n",
      " dropout_3 (Dropout)         (None, 128)               0         \n",
      "                                                                 \n",
      " dense_3 (Dense)             (None, 6)                 774       \n",
      "                                                                 \n",
      "=================================================================\n",
      "Total params: 22,704,966\n",
      "Trainable params: 22,704,966\n",
      "Non-trainable params: 0\n",
      "_________________________________________________________________\n"
     ]
    }
   ],
   "source": [
    "histories_acc=[]\n",
    "histories_val_acc=[]\n",
    "histories_loss=[]\n",
    "histories_val_loss=[]\n",
    "model.set_weights(weights)\n",
    "h=model.fit(X_train,y_train,\n",
    "            batch_size=6,\n",
    "            verbose=2,\n",
    "            callbacks=[early_stop],\n",
    "            epochs=30,\n",
    "            shuffle=True,\n",
    "            validation_data=(X_test, y_Test))\n",
    "model.summary()"
   ]
  },
  {
   "cell_type": "code",
   "execution_count": 13,
   "id": "bb818647",
   "metadata": {},
   "outputs": [],
   "source": [
    "model_json=model.to_json()\n",
    "with open(\"final_model.json\",\"w\") as json_file:\n",
    "    json_file.write(model_json)"
   ]
  },
  {
   "cell_type": "code",
   "execution_count": 14,
   "id": "40ea1242",
   "metadata": {},
   "outputs": [
    {
     "name": "stdout",
     "output_type": "stream",
     "text": [
      "saved model to disk\n"
     ]
    }
   ],
   "source": [
    "model.save_weights(\"final_model.h5\")\n",
    "print(\"saved model to disk\")"
   ]
  }
 ],
 "metadata": {
  "kernelspec": {
   "display_name": "Python 3 (ipykernel)",
   "language": "python",
   "name": "python3"
  },
  "language_info": {
   "codemirror_mode": {
    "name": "ipython",
    "version": 3
   },
   "file_extension": ".py",
   "mimetype": "text/x-python",
   "name": "python",
   "nbconvert_exporter": "python",
   "pygments_lexer": "ipython3",
   "version": "3.9.13"
  }
 },
 "nbformat": 4,
 "nbformat_minor": 5
}
